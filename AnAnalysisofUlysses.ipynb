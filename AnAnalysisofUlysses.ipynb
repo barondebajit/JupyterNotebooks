{
  "cells": [
    {
      "cell_type": "markdown",
      "metadata": {
        "id": "view-in-github",
        "colab_type": "text"
      },
      "source": [
        "<a href=\"https://colab.research.google.com/github/barondebajit/JupyterNotebooks/blob/main/AnAnalysisofUlysses.ipynb\" target=\"_parent\"><img src=\"https://colab.research.google.com/assets/colab-badge.svg\" alt=\"Open In Colab\"/></a>"
      ]
    },
    {
      "cell_type": "markdown",
      "id": "2e15ad81-72e1-41b4-92e0-7031c4e64d46",
      "metadata": {
        "id": "2e15ad81-72e1-41b4-92e0-7031c4e64d46"
      },
      "source": [
        "# An Analysis of Ulysses"
      ]
    },
    {
      "cell_type": "markdown",
      "id": "2d9c5e11-735d-4592-9b8d-a74634496df5",
      "metadata": {
        "id": "2d9c5e11-735d-4592-9b8d-a74634496df5"
      },
      "source": [
        "### Incorporating data analysis using Python to group and visualize the trend in words written in the novel **Ulysses** by Irish author **James Joyce**."
      ]
    },
    {
      "cell_type": "code",
      "execution_count": null,
      "id": "f6b2c47d-1352-4f32-b505-45ae774e010d",
      "metadata": {
        "id": "f6b2c47d-1352-4f32-b505-45ae774e010d"
      },
      "outputs": [],
      "source": [
        "#Imports\n",
        "import requests\n",
        "from bs4 import BeautifulSoup\n",
        "import numpy as np\n",
        "import pandas as pd\n",
        "from matplotlib import pyplot as plt"
      ]
    },
    {
      "cell_type": "code",
      "execution_count": null,
      "id": "eeb149aa",
      "metadata": {
        "id": "eeb149aa"
      },
      "outputs": [],
      "source": [
        "#Variables\n",
        "bookname = \"Ulysses\"\n",
        "bookurl = 'https://www.gutenberg.org/files/4300/4300-h/4300-h.htm'\n",
        "response = requests.get(bookurl)"
      ]
    },
    {
      "cell_type": "code",
      "execution_count": null,
      "id": "82bbbaa0",
      "metadata": {
        "id": "82bbbaa0"
      },
      "outputs": [],
      "source": [
        "#Extracting the book\n",
        "if response.status_code == 200:\n",
        "    html_content = response.text\n",
        "soup = BeautifulSoup(html_content, 'html.parser')\n",
        "body = soup.find('body')\n",
        "text = body.get_text()"
      ]
    },
    {
      "cell_type": "markdown",
      "id": "2784a21f",
      "metadata": {
        "id": "2784a21f"
      },
      "source": [
        "### We have successfully acquired the book from the Gutenberg Project website. Now, we need to clean the data."
      ]
    },
    {
      "cell_type": "code",
      "execution_count": null,
      "id": "b145f49f",
      "metadata": {
        "id": "b145f49f"
      },
      "outputs": [],
      "source": [
        "#Cleaning Data\n",
        "textarray = []\n",
        "nullcount = 0\n",
        "i = 0\n",
        "word = \"\"\n",
        "\n",
        "while i != len(text):\n",
        "    if text[i].isalnum():\n",
        "        word += text[i]\n",
        "    else:\n",
        "        textarray.append(word)\n",
        "        word = \"\"\n",
        "    i += 1\n",
        "\n",
        "leadtrail = [\" \",\"\\n\",\",\",\"?\",\"[\",\"]\",\"-\",\".\",\":\"]\n",
        "for i in range(len(textarray)):\n",
        "    for j in leadtrail:\n",
        "        textarray[i] = textarray[i].strip(j)\n",
        "for i in range(len(textarray)):\n",
        "    if textarray[i] == \"\":\n",
        "        nullcount += 1\n",
        "    else:\n",
        "        textarray[i] = textarray[i].lower()\n",
        "while nullcount != 0:\n",
        "    textarray.remove(\"\")\n",
        "    nullcount -= 1\n",
        "textarray=textarray[161:]"
      ]
    },
    {
      "cell_type": "code",
      "execution_count": null,
      "id": "0791d34a",
      "metadata": {
        "id": "0791d34a"
      },
      "outputs": [],
      "source": [
        "#Converting the word list into a dictionary based on word frequency\n",
        "textdict = {}\n",
        "for i in textarray:\n",
        "    if i not in textdict:\n",
        "        textdict[i] = 1\n",
        "    else:\n",
        "        textdict[i] += 1"
      ]
    },
    {
      "cell_type": "markdown",
      "id": "8ea8da30",
      "metadata": {
        "id": "8ea8da30"
      },
      "source": [
        "### We now obtain a dictionary containing the every word present in the story as well as the word count. We can now find the most and least frequent words in the story by sorting it into an array as shown below."
      ]
    },
    {
      "cell_type": "code",
      "execution_count": null,
      "id": "372fa40d",
      "metadata": {
        "id": "372fa40d",
        "outputId": "5046c5c1-ba25-444d-9741-5ecfbca658d7"
      },
      "outputs": [
        {
          "name": "stdout",
          "output_type": "stream",
          "text": [
            "The 10 most frequent words in Ulysses are:\n",
            "('the', 15133)\n",
            "('of', 8260)\n",
            "('and', 7282)\n",
            "('a', 6575)\n",
            "('to', 5041)\n",
            "('in', 5006)\n",
            "('he', 4036)\n",
            "('his', 3330)\n",
            "('s', 2836)\n",
            "('i', 2693)\n",
            "\n",
            "The 10 least frequent words in Ulysses are:\n",
            "('newsletter', 1)\n",
            "('subscribe', 1)\n",
            "('includes', 1)\n",
            "('facility', 1)\n",
            "('pg', 1)\n",
            "('volunteer', 1)\n",
            "('network', 1)\n",
            "('originator', 1)\n",
            "('treatment', 1)\n",
            "('donors', 1)\n"
          ]
        }
      ],
      "source": [
        "#Converting the dictionary into an array sorted by decreasing order of word frequency and displaying the 10 most and 10 least frequent words in the story\n",
        "sortedtextarray=sorted(textdict.items(),key=lambda x:x[1],reverse=True)\n",
        "\n",
        "print(\"The 10 most frequent words in Ulysses are:\")\n",
        "for i in range(10):\n",
        "    print(sortedtextarray[i])\n",
        "\n",
        "print(\"\")\n",
        "\n",
        "print(\"The 10 least frequent words in Ulysses are:\")\n",
        "for i in range(10):\n",
        "    print(sortedtextarray[-1*i-1])"
      ]
    }
  ],
  "metadata": {
    "kernelspec": {
      "display_name": "Python 3 (ipykernel)",
      "language": "python",
      "name": "python3"
    },
    "language_info": {
      "codemirror_mode": {
        "name": "ipython",
        "version": 3
      },
      "file_extension": ".py",
      "mimetype": "text/x-python",
      "name": "python",
      "nbconvert_exporter": "python",
      "pygments_lexer": "ipython3",
      "version": "3.12.4"
    },
    "colab": {
      "provenance": [],
      "include_colab_link": true
    }
  },
  "nbformat": 4,
  "nbformat_minor": 5
}